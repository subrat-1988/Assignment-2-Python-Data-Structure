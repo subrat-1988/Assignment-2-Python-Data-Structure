{
 "cells": [
  {
   "cell_type": "code",
   "execution_count": null,
   "id": "3a99d364-814f-4e13-9dee-869e6e926a0f",
   "metadata": {},
   "outputs": [],
   "source": [
    "# 1-What are data structures, and why are they important?\n",
    "\"\"\"\n",
    "--> Data structures in Python are specialized formats for organizing, managing, and storing data efficiently.\n",
    "--> Data structure enables effective data manipulation, retrieval, and storage.\n",
    "--> Python provides both built-in and user-defined data structures.\n",
    "--> Built-in Data Structures: List, tuple, set, dictionary.\n",
    "--> Data structure enables efficiency, data organization, code readability & maintainability & better performance.\n",
    "\"\"\""
   ]
  },
  {
   "cell_type": "code",
   "execution_count": null,
   "id": "a18f53cb-0e09-40f7-9eb0-d547dcffb808",
   "metadata": {},
   "outputs": [],
   "source": [
    "# 2-Explain the difference between mutable and immutable data types with examples.\n",
    "\"\"\"\n",
    "--> In Python, data types are categorized into mutable and immutable based on whether their values can be modified after creation.\n",
    "--> Mutable Data Types: Mutable objects can be changed after creation. Modifications can be done without changing the object’s memory address.\n",
    "--> Mutable data types are list, set, dictionary.\n",
    "Ex: \n",
    "shopping_list = [\"Apple\", \"Banana\", \"Orange\", \"Pattato\", 2, 3.5, True]\n",
    "shopping_list.append(\"Tamato\")\n",
    "shopping_list.remove(3.5)\n",
    "print(shopping_list)\n",
    "output: ['Apple', 'Banana', 'Orange', 'Pattato', 2, True, 'Tamato']\n",
    "\n",
    "--> Immutable Data Types: Immutable objects cannot be changed after creation. Any modification results in a new object being created with a different memory address.\n",
    "--> Immutable data types are integer, float, string, tuple, boolean, frozen set.\n",
    "Ex:\n",
    "empid = (1,2,3,4,5)\n",
    "empid[0] = 100\n",
    "Output: 'tuple' object does not support item assignment.\n",
    "\"\"\""
   ]
  },
  {
   "cell_type": "code",
   "execution_count": null,
   "id": "073fbaac-f075-46d4-806d-fe257a396360",
   "metadata": {},
   "outputs": [],
   "source": [
    "# 3-What are the main differences between lists and tuples in Python?\n",
    "\"\"\"\n",
    "--> List and tuple both stores heterogeneous data.\n",
    "--> List is mutable object. We can modify, add, or remove elements after creation. \n",
    "--> But tuple is immutable object.Once created, they cannot be changed.\n",
    "--> Lists are slower since they require dynamic memory allocation.\n",
    "--> Tuples are faster than lists because of their fixed size and immutability.\n",
    "--> Lists require more memory due to dynamic resizing and additional functionality.\n",
    "--> Tuples use less memory as they store only necessary elements.\n",
    "\"\"\""
   ]
  },
  {
   "cell_type": "code",
   "execution_count": null,
   "id": "2313c304-cb4a-459b-9634-acab6c9d1497",
   "metadata": {},
   "outputs": [],
   "source": [
    "# 4-Describe how dictionaries store data.\n",
    "\"\"\"\n",
    "--> In python, dictionary is a data structure that stores data as key value pair.\n",
    "--> my_dict = {\"name\":\"Rahul\", \"email\":\"rahul123@gmail.com\",\"contact\":12345}\n",
    "--> Keys are unique and immutable.\n",
    "--> Dctionaries are unordered, but from python 3.7 version, dictionaries retain the order of insertion.\n",
    "--> This means that if you iterate over a dictionary, the items will be returned in the order they were added.\n",
    "--> Dictionary is mutable. Accessing the elements or data by key and assign a new value to the key.\n",
    "--> We can only access value using key, vice-versa is not possible. Means we can not access key by using value.\n",
    "--> Only string, numbers, tuple & boolean value can be used as a key of the dictionary.\n",
    "\"\"\""
   ]
  },
  {
   "cell_type": "code",
   "execution_count": null,
   "id": "3da94a85-1fe0-4877-84cc-1650977c4a1e",
   "metadata": {},
   "outputs": [],
   "source": [
    "# 5-Why might you use a set instead of a list in Python?\n",
    "\"\"\"\n",
    "--> The sets are highly useful to efficiently remove duplicate values from a collection like a list and to perform common math operations like unions and intersections.\n",
    "--> Reasons to Use Sets over Lists:\n",
    "--> Order doesn't matter. Unlike lists, sets do not store ordered data. \n",
    "--> Duplicates are irrelevant. Sets cannot contain duplicates. \n",
    "--> Processing speed matters. Since sets do not store indexed data or duplicates, they use less memory than lists and are less computationally expensive.\n",
    "\"\"\""
   ]
  },
  {
   "cell_type": "code",
   "execution_count": null,
   "id": "cd38bbfb-af5e-49e9-a6fe-a296a98b4c82",
   "metadata": {},
   "outputs": [],
   "source": [
    "# 6-What is a string in Python, and how is it different from a list?\n",
    "\"\"\"\n",
    "--> In python, a string is an immutable sequence of characters used to store text data. \n",
    "--> It is enclosed in single ('), double (\"), or triple (''' or \"\"\"`) quotes.\n",
    "--> my_str = \"hello world\"\n",
    "--> A list is a mutable & orderly collection of items, where each item could be anything (an integer, a float, a string, etc).\n",
    "--> It is enclosed with square brackets [].\n",
    "--> grocery_list = [\"Milk\",\"Orange\",1,2.5,True,3+6j]\n",
    "\"\"\""
   ]
  },
  {
   "cell_type": "code",
   "execution_count": null,
   "id": "5f3c5b26-44b1-4efa-ac34-256b3839fd14",
   "metadata": {},
   "outputs": [],
   "source": [
    "# 7-How do tuples ensure data integrity in Python?\n",
    "\"\"\"\n",
    "--> In Python, a tuple is an immutable sequence that helps ensure data integrity by preventing accidental modifications.\n",
    "--> Once created, a tuple cannot be changed (no adding, deleting, or modifying elements).\n",
    "--> This protects data from accidental modifications, ensuring consistency and safety.\n",
    "--> In a tuple, the data remains consistent throughout execution.\n",
    "--> Since tuples are immutable, they are hashable and can be used as keys in a dictionary.\n",
    "--> When passing a tuple to a function, the function cannot modify the original data.\n",
    "\"\"\""
   ]
  },
  {
   "cell_type": "code",
   "execution_count": null,
   "id": "30f54a72-8b8f-4e84-a1e4-255cfa7a8be7",
   "metadata": {},
   "outputs": [],
   "source": [
    "# 8-What is a hash table, and how does it relate to dictionaries in Python?\n",
    "\"\"\"\n",
    "--> A hash table is a data structure that stores key-value pairs using a hashing function to quickly retrieve values based on their keys.\n",
    "--> In Python, the dictionary is implemented using a hash table, making it fast for lookups, insertions, and deletions.\n",
    "--> Dictionaries store key-value pairs in a hash table.\n",
    "    \n",
    "    Keys: \"name\", \"age\", \"city\"\n",
    "    Hash Values: 42, 17, 99\n",
    "    Stored as:(42, \"Rahul\"), (17, 25), (99, \"Mumbai\")\n",
    "-->\n",
    "    my_dict = {\"name\": \"Rahul\", \"age\": 25, \"city\": \"Mumbai\"}\n",
    "    print(my_dict[\"name\"])  # Fast lookup using hashing (O(1))\n",
    "\"\"\""
   ]
  },
  {
   "cell_type": "code",
   "execution_count": null,
   "id": "82c093d1-0e41-4667-8b21-35f5cb4703f2",
   "metadata": {},
   "outputs": [],
   "source": [
    "# 9-Can lists contain different data types in Python?\n",
    "\"\"\"\n",
    "--> Yes. \n",
    "--> In Python, list can contain elements of different data types (heterogeneous data), including integers, floats, strings, booleans, complex data, other lists, tuples, dictionaries, and even functions or objects.\n",
    "--> my_list = [42, 3.14, 6+9j, \"hello\", True, [1, 2, 3], {\"key\": \"value\"}]\n",
    "\"\"\""
   ]
  },
  {
   "cell_type": "code",
   "execution_count": null,
   "id": "ab8ffb6f-6faf-44a1-8d5c-6ac59704cdef",
   "metadata": {},
   "outputs": [],
   "source": [
    "# 10-Explain why strings are immutable in Python?\n",
    "\"\"\"\n",
    "--> In Python, a string  is immutable, meaning it cannot be changed after creation. \n",
    "--> Any operation that seems to modify a string actually creates a new string instead of modifying the original one.\n",
    "--> The immutability of Python string is very useful as it helps in hashing, performance optimization, safety, ease of use.\n",
    "    s = \"hello\"\n",
    "    s = s + \" world\"  # Creates a new string, doesn't modify the original\n",
    "    print(s)  # Output: \"hello world\"\n",
    "\n",
    "    s = \"hello\"\n",
    "    s[0] = \"H\"  # TypeError: 'str' object does not support item assignment\n",
    "\n",
    "\"\"\""
   ]
  },
  {
   "cell_type": "code",
   "execution_count": null,
   "id": "220cc19e-cd39-4ce8-b1d1-39dea81071f0",
   "metadata": {},
   "outputs": [],
   "source": [
    "# 11-What advantages do dictionaries offer over lists for certain tasks?\n",
    "\"\"\"\n",
    "--> Both dictionaries and lists store collections of data, but dictionaries offers key advantages in certain tasks.\n",
    "--> Dictionaries are best for structured, key-value-based and fast-access scenarios.\n",
    "--> Dictionary offers the Key advantages over lists like faster lookup, key-value pair structure, efficient data update, ensures no duplicate keys, more readable code, flexible data storage. \n",
    "--> Lists are better for ordered, indexed and sequential storage needs.\n",
    "\"\"\""
   ]
  },
  {
   "cell_type": "code",
   "execution_count": null,
   "id": "0e0b11cf-68b1-4d38-b875-8e184dacbaf5",
   "metadata": {},
   "outputs": [],
   "source": [
    "# 12-Describe a scenario where using a tuple would be preferable over a list.\n",
    "\"\"\"\n",
    "--> A tuple would be preferable over a list in a scenario where immutability and performance are important.\n",
    "--> The values are fixed and should not be modified.\n",
    "--> It is memory efficient and faster compared to a list.\n",
    "--> Scenario: Storing Coordinates of a Location.\n",
    "--> Returning Multiple Values from a Function.\n",
    "--> Using Tuples as Dictionary Keys.\n",
    " Ex:  # New Delhi City (latitude, longitude) \n",
    "    location = (40.7128, -74.0060)\n",
    "    location[0] = 41.0000    # TypeError: 'tuple' object does not support item assignment.    \n",
    "\"\"\""
   ]
  },
  {
   "cell_type": "code",
   "execution_count": null,
   "id": "d153790f-7a74-4476-887d-9749df0c89d7",
   "metadata": {},
   "outputs": [],
   "source": [
    "# 13-How do sets handle duplicate values in Python?\n",
    "\"\"\"\n",
    "--> In Python, sets automatically remove duplicate values because they are unordered collections of unique elements.\n",
    "--> When you add duplicate values to a set, Python ensures that only one instance of each unique element is stored.\n",
    "--> Ex: Duplicates numbers are present in a set.\n",
    "    numbers = {1, 2, 3, 3, 4, 4, 5}   \n",
    "    print(numbers)  # Output: {1, 2, 3, 4, 5}\n",
    "\"\"\""
   ]
  },
  {
   "cell_type": "code",
   "execution_count": null,
   "id": "e0520bda-bca7-4137-9035-ff17036a05f2",
   "metadata": {},
   "outputs": [],
   "source": [
    "# 14-How does the “in” keyword work differently for lists and dictionaries?\n",
    "\"\"\"\n",
    "--> The 'in' keyword in Python is used to check membership in collections like lists and dictionaries, but it behaves differently for each type.\n",
    "--> 'in' with Lists: When used with a list, in checks if a value exists in the list by iterating through each element one by one.\n",
    "--> This means that membership testing in lists is slower, especially for large lists, because Python must check each item sequentially (O(n) time complexity).\n",
    "--> If the list is long, this can be inefficient.\n",
    "--> Ex: List\n",
    "    numbers = [1, 2, 3, 4, 5]\n",
    "    print(3 in numbers)  # Output: True\n",
    "    print(10 in numbers)  # Output: False\n",
    "--> 'in' with Dictionaries: When used with a dictionary, 'in' checks for keys, not values by default.\n",
    "--> The 'in' operator only checks keys unless you explicitly check values.\n",
    "--> Unlike lists, dictionaries use hashing, making membership testing much faster (O(1) on average).\n",
    "-->Ex: \n",
    "    student_grades = {\"Sanjay\": 90, \"Bijay\": 85, \"Ajay\": 92}\n",
    "    print(\"Sanjay\" in student_grades)  # Output: True  (Checks if \"Sanjay\" is a key)\n",
    "    print(90 in student_grades)        # Output: False  (90 is a value, not a key)\n",
    "\n",
    "    # Checking values:\n",
    "    print(90 in student_grades.values())  # Output: True\n",
    "\n",
    "    # Checking both keys and values:\n",
    "    print((\"Sanjay\", 90) in student_grades.items())  # Output: True\n",
    "\n",
    "\"\"\""
   ]
  },
  {
   "cell_type": "code",
   "execution_count": null,
   "id": "8d99b122-0cfc-4aac-9a7d-079863e607c2",
   "metadata": {},
   "outputs": [],
   "source": [
    "# 15-Can you modify the elements of a tuple? Explain why or why not?\n",
    "\"\"\"\n",
    "--> No, we cannot modify the elements of a tuple in Python, because tuples are immutable. \n",
    "--> This means that once a tuple is created, its elements cannot be changed, added or removed.\n",
    "--> if tuple contains mutable objects like lists, those inner objects can be modified.\n",
    "--> If we need to modify a tuple, the only way is to create a new one.\n",
    "    Ex:\n",
    "    my_tuple = (1, 2, 3)\n",
    "    # Trying to change an element\n",
    "    my_tuple[0] = 10  # This will raise TypeError: 'tuple' object does not support item assignment.\n",
    "\n",
    "    Ex:\n",
    "    my_tuple = (1, [2, 3], 4)\n",
    "    # Modifying the list inside the tuple\n",
    "    my_tuple[1].append(5)\n",
    "    print(my_tuple)  # Output: (1, [2, 3, 5], 4)\n",
    "\n",
    "    Ex:\n",
    "    my_tuple = (1, 2, 3)\n",
    "    # Creating a new tuple with modified elements\n",
    "    new_tuple = (10,) + my_tuple[1:]\n",
    "    print(new_tuple)  # Output: (10, 2, 3)\n",
    "\"\"\""
   ]
  },
  {
   "cell_type": "code",
   "execution_count": null,
   "id": "790fe772-ffb8-4293-9d95-ed5ebae8c4b5",
   "metadata": {},
   "outputs": [],
   "source": [
    "# 16-What is a nested dictionary, and give an example of its use case?\n",
    "\"\"\"\n",
    "--> A nested dictionary is a dictionary that contains another dictionary as a value within one or more of its keys.\n",
    "--> This structure allows for hierarchical data storage and organization.\n",
    "--> Ex: School Management System (Student Records):\n",
    "    \n",
    "    students = {\n",
    "    \n",
    "    \"student_1\": {\n",
    "        \"name\": \"Sanjay\",\n",
    "        \"age\": 16,\n",
    "        \"grades\": {\"Math\": 90, \"Science\": 85, \"English\": 88}\n",
    "        },\n",
    "    \n",
    "    \"student_2\": {\n",
    "        \"name\": \"Bijay\",\n",
    "        \"age\": 17,\n",
    "        \"grades\": {\"Math\": 95, \"Science\": 92, \"English\": 91}\n",
    "        }\n",
    "    }\n",
    "\"\"\""
   ]
  },
  {
   "cell_type": "code",
   "execution_count": null,
   "id": "42a13699-7ea9-4da8-8120-ca3d20d1da40",
   "metadata": {},
   "outputs": [],
   "source": [
    "# 17-Describe the time complexity of accessing elements in a dictionary.\n",
    "\"\"\"\n",
    "--> In Python, dictionaries are implemented using hash tables, which provide efficient access to elements. \n",
    "--> The time complexity of accessing an element in a dictionary depends on whether we are looking for a key or a value.\n",
    "--> Dictionary operations are highly optimized for average-case O(1) performance.\n",
    "--> Worst-case O(n) scenarios happen due to hash collisions or rehashing when the dictionary grows too large.\n",
    "--> Iterating over a dictionary always takes O(n) since each element must be visited.\n",
    "--> Accessing a Value by Key (dict[key]).\n",
    "--> Checking for Key Existence (key in dict).\n",
    "--> Inserting or Updating an Element (dict[key] = value).\n",
    "--> Deleting an Element (del dict[key]).\n",
    "--> Iterating Over a Dictionary (for key in dict).\n",
    "\"\"\""
   ]
  },
  {
   "cell_type": "code",
   "execution_count": null,
   "id": "aeea2c43-46f9-423b-b63d-15c42a49cf2d",
   "metadata": {},
   "outputs": [],
   "source": [
    "# 18-In what situations are lists preferred over dictionaries?\n",
    "\"\"\"\n",
    "--> While dictionaries offer fast lookups with O(1) complexity on average, lists are preferable in certain situations due to their ordered nature, simplicity, and better memory efficiency.\n",
    "--> Scenarios where using a list is better than a dictionary are order matters, indexed access, store homogeneous data, memory usage is concern, fast iteration, sorting and simple collection.\n",
    "--> Dictionaries are better for key-value mappings, fast lookups, and structured data.\n",
    "\"\"\""
   ]
  },
  {
   "cell_type": "code",
   "execution_count": null,
   "id": "001b4612-41a3-4512-90b4-3c958a4f71a1",
   "metadata": {},
   "outputs": [],
   "source": [
    "# 19-Why are dictionaries considered unordered, and how does that affect data retrieval?\n",
    "\"\"\"\n",
    "--> Dictionaries are considered unordered because they use hash tables to store data.\n",
    "--> Meaning that elements are placed in arbitrary positions based on hash values, rather than in the order they were added.\n",
    "--> Before Python 3.7: The output order is unpredictable because dictionary elements are stored based on their computed hash indexes.\n",
    "--> Python 3.7+: The insertion order is preserved, but this is considered an implementation detail rather than a strict guarantee in all cases.\n",
    "--> Unordered dictionary affects the data retrieval for its no positional indexing, Lookup by key is O(1), but searching by value is O(n), iteration order is arbitrary in older versions.\n",
    "--> Use OrderedDict if strict ordering is required.\n",
    "\"\"\""
   ]
  },
  {
   "cell_type": "code",
   "execution_count": null,
   "id": "16a4c157-8b0b-4f2c-bdec-ebf3949ed452",
   "metadata": {},
   "outputs": [],
   "source": [
    "# 20-Explain the difference between a list and a dictionary in terms of data retrieval.\n",
    "\"\"\"\n",
    "--> Both lists and dictionaries store and retrieve data efficiently, but the difference in access methods, time complexity, and use cases.\n",
    "--> Data Retrieval in Lists:\n",
    "--> Retrieval by Index (Positional Access): Lists store elements in a sequential manner and allow direct access by index.\n",
    "--> Access time complexity: O(1) (constant time).\n",
    "--> Efficient when accessing elements by position.\n",
    "    \n",
    "    fruits = [\"apple\", \"banana\", \"cherry\"]\n",
    "    print(fruits[1])  # Output: \"banana\"\n",
    "    \n",
    "--> Searching for an Element (Linear Search): If the index is unknown, we must iterate through the list. Time complexity: O(n) (linear search).\n",
    "--> Inefficient for large datasets compared to dictionaries.\n",
    "\n",
    "    fruits = [\"apple\", \"banana\", \"cherry\"]\n",
    "    print(\"banana\" in fruits)  # O(n) search\n",
    "    \n",
    "--> Data Retrieval in Dictionaries: \n",
    "--> Retrieval by Key (Key-Based Access): Dictionaries store data in key-value pairs and retrieve values using keys, not indices.\n",
    "--> Access time complexity: O(1) (average case, due to hashing).\n",
    "    student = {\"name\": \"Sanjay\", \"age\": 25, \"city\": \"New Delhi\"}\n",
    "    print(student[\"age\"])  # Output: 25\n",
    "--> Extremely fast key-based lookups.\n",
    "--> Cannot retrieve data by position like a list.\n",
    "--> Searching for a Value (Slower than Key Lookup): Retrieving a value without knowing the key requires iterating over all items.\n",
    "--> Time complexity: O(n) (linear search).\n",
    "    print(25 in student.values())  # O(n) search\n",
    "--> Fast key lookups, but slower value searches.\n",
    "\"\"\""
   ]
  },
  {
   "cell_type": "code",
   "execution_count": null,
   "id": "837932cd-7845-4e45-bfbe-2b3b61608a35",
   "metadata": {},
   "outputs": [],
   "source": [
    "# Practical Questions:"
   ]
  },
  {
   "cell_type": "code",
   "execution_count": 1,
   "id": "18e24dc8-62b3-4e41-a257-44a0c540f462",
   "metadata": {},
   "outputs": [
    {
     "name": "stdout",
     "output_type": "stream",
     "text": [
      "Subrat\n"
     ]
    }
   ],
   "source": [
    "# 1-Write a code to create a string with your name and print it.\n",
    "\n",
    "name = \"Subrat\"\n",
    "print(name)"
   ]
  },
  {
   "cell_type": "code",
   "execution_count": 2,
   "id": "ff15679f-906b-45c4-8f47-a283e53d21c7",
   "metadata": {},
   "outputs": [
    {
     "name": "stdin",
     "output_type": "stream",
     "text": [
      "Enter your name:  Subrat\n"
     ]
    },
    {
     "name": "stdout",
     "output_type": "stream",
     "text": [
      "Your name is: Subrat\n"
     ]
    }
   ],
   "source": [
    "name = input(\"Enter your name: \")\n",
    "print(\"Your name is:\", name)"
   ]
  },
  {
   "cell_type": "code",
   "execution_count": 3,
   "id": "812249ad-7c10-477a-b6ad-acab6185c737",
   "metadata": {},
   "outputs": [
    {
     "name": "stdout",
     "output_type": "stream",
     "text": [
      "Length of the string is: 11\n"
     ]
    }
   ],
   "source": [
    "# 2-Write a code to find the length of the string \"Hello World\".\n",
    "\n",
    "my_str = \"Hello World\"\n",
    "length = len(my_str)\n",
    "print(\"Length of the string is:\", length)"
   ]
  },
  {
   "cell_type": "code",
   "execution_count": 4,
   "id": "dfe83a21-b028-4426-889b-7bbcbcb37e93",
   "metadata": {},
   "outputs": [
    {
     "name": "stdout",
     "output_type": "stream",
     "text": [
      "Sliced string is: Pyt\n"
     ]
    }
   ],
   "source": [
    "# 3-Write a code to slice the first 3 characters from the string \"Python Programming\".\n",
    "\n",
    "my_str = \"Python Programming\"\n",
    "sliced_str = my_str[:3]  # Extracts characters from index 0 to 2.\n",
    "print(\"Sliced string is:\", sliced_str)"
   ]
  },
  {
   "cell_type": "code",
   "execution_count": 5,
   "id": "1ca82675-0e82-40f9-8632-3e1c8eec9230",
   "metadata": {},
   "outputs": [
    {
     "name": "stdout",
     "output_type": "stream",
     "text": [
      "Uppercase string is: HELLO\n"
     ]
    }
   ],
   "source": [
    "# 4-Write a code to convert the string \"hello\" to uppercase.\n",
    "\n",
    "my_str = \"hello\"\n",
    "uppercase_str = my_str.upper()\n",
    "print(\"Uppercase string is:\", uppercase_str)"
   ]
  },
  {
   "cell_type": "code",
   "execution_count": 6,
   "id": "85f80d07-fa5e-409e-b1d7-b7104921f6bf",
   "metadata": {},
   "outputs": [
    {
     "name": "stdout",
     "output_type": "stream",
     "text": [
      "Updated string is: I like orange\n"
     ]
    }
   ],
   "source": [
    "# 5-Write a code to replace the word \"apple\" with \"orange\" in the string \"I like apple\".\n",
    "\n",
    "text = \"I like apple\"\n",
    "new_text = text.replace(\"apple\", \"orange\")\n",
    "print(\"Updated string is:\", new_text)"
   ]
  },
  {
   "cell_type": "code",
   "execution_count": 7,
   "id": "5235c1e2-700f-4bb8-a9dc-13b177f06db5",
   "metadata": {},
   "outputs": [
    {
     "name": "stdout",
     "output_type": "stream",
     "text": [
      "List of numbers: [1, 2, 3, 4, 5]\n"
     ]
    }
   ],
   "source": [
    "# 6-Write a code to create a list with numbers 1 to 5 and print it.\n",
    "\n",
    "my_list = [1, 2, 3, 4, 5]\n",
    "print(\"List of numbers:\", my_list)"
   ]
  },
  {
   "cell_type": "code",
   "execution_count": 8,
   "id": "1b4b7d26-31b2-4eea-b244-f9bec1dab3bc",
   "metadata": {},
   "outputs": [
    {
     "name": "stdout",
     "output_type": "stream",
     "text": [
      "List of numbers: [1, 2, 3, 4, 5]\n"
     ]
    }
   ],
   "source": [
    "my_list = list(range(1, 6))\n",
    "print(\"List of numbers:\", my_list)"
   ]
  },
  {
   "cell_type": "code",
   "execution_count": 9,
   "id": "c75466bc-32c0-4b8f-9a3e-91cf413d696b",
   "metadata": {},
   "outputs": [
    {
     "name": "stdout",
     "output_type": "stream",
     "text": [
      "Updated list: [1, 2, 3, 4, 10]\n"
     ]
    }
   ],
   "source": [
    "# 7-Write a code to append the number 10 to the list [1, 2, 3, 4].\n",
    "\n",
    "my_list = [1, 2, 3, 4]\n",
    "my_list.append(10)  # Appends 10 to the end of the list.\n",
    "print(\"Updated list:\", my_list)"
   ]
  },
  {
   "cell_type": "code",
   "execution_count": 10,
   "id": "c62a33f7-e9fd-4fce-bae2-9bc4ea828914",
   "metadata": {},
   "outputs": [
    {
     "name": "stdout",
     "output_type": "stream",
     "text": [
      "Updated list: [1, 2, 4, 5]\n"
     ]
    }
   ],
   "source": [
    "# 8-Write a code to remove the number 3 from the list [1, 2, 3, 4, 5].\n",
    "\n",
    "my_list = [1, 2, 3, 4, 5]\n",
    "my_list.remove(3)  # Removes the first occurrence of 3\n",
    "print(\"Updated list:\", my_list)"
   ]
  },
  {
   "cell_type": "code",
   "execution_count": 12,
   "id": "aa93f2be-5aa2-4ad1-b8e9-3b0841f11ec2",
   "metadata": {},
   "outputs": [
    {
     "name": "stdout",
     "output_type": "stream",
     "text": [
      "Second element of the list is: b\n"
     ]
    }
   ],
   "source": [
    "# 9-Write a code to access the second element in the list ['a', 'b', 'c', 'd'].\n",
    "\n",
    "my_list = ['a', 'b', 'c', 'd']\n",
    "second_element = my_list[1]\n",
    "print(\"Second element of the list is:\", second_element)"
   ]
  },
  {
   "cell_type": "code",
   "execution_count": 16,
   "id": "9ec4b887-3608-4aff-844e-95d59329b9bf",
   "metadata": {},
   "outputs": [
    {
     "name": "stdout",
     "output_type": "stream",
     "text": [
      "The reverse list is: [50, 40, 30, 20, 10]\n"
     ]
    }
   ],
   "source": [
    "# 10-Write a code to reverse the list [10, 20, 30, 40, 50].\n",
    "\n",
    "my_list = [10, 20, 30, 40, 50]\n",
    "my_list.reverse()\n",
    "print(\"The reverse list is:\", my_list)"
   ]
  },
  {
   "cell_type": "code",
   "execution_count": 17,
   "id": "9d5d2d41-062d-4da2-8658-0c20c2bdcd20",
   "metadata": {},
   "outputs": [
    {
     "name": "stdout",
     "output_type": "stream",
     "text": [
      "The reverse list is: [50, 40, 30, 20, 10]\n"
     ]
    }
   ],
   "source": [
    "my_list = [10, 20, 30, 40, 50]\n",
    "reverse_list = my_list[::-1]\n",
    "print(\"The reverse list is:\", reverse_list)"
   ]
  },
  {
   "cell_type": "code",
   "execution_count": 18,
   "id": "4fdd98b2-b465-4232-be42-6b84dfc99e4e",
   "metadata": {},
   "outputs": [
    {
     "name": "stdout",
     "output_type": "stream",
     "text": [
      "Tuple is: (100, 200, 300)\n"
     ]
    }
   ],
   "source": [
    "# 11-Write a code to create a tuple with the elements 100, 200, 300 and print it.\n",
    "\n",
    "my_tuple = (100, 200, 300)\n",
    "print(\"Tuple is:\", my_tuple)"
   ]
  },
  {
   "cell_type": "code",
   "execution_count": 20,
   "id": "444369a0-09d2-4c4e-a01f-035409a8db74",
   "metadata": {},
   "outputs": [
    {
     "name": "stdout",
     "output_type": "stream",
     "text": [
      "Second-to-last element of the tuple is: blue\n"
     ]
    }
   ],
   "source": [
    "# 12-Write a code to access the second-to-last element of the tuple ('red', 'green', 'blue', 'yellow').\n",
    "\n",
    "colors = ('red', 'green', 'blue', 'yellow')\n",
    "second_to_last = colors[-2]  # Negative index -2 refers to the second-to-last element.\n",
    "print(\"Second-to-last element of the tuple is:\", second_to_last)"
   ]
  },
  {
   "cell_type": "code",
   "execution_count": 21,
   "id": "99522a23-bd93-431a-9d0f-7b7115c1642d",
   "metadata": {},
   "outputs": [
    {
     "name": "stdout",
     "output_type": "stream",
     "text": [
      "Minimum number in the tuple is: 5\n"
     ]
    }
   ],
   "source": [
    "# 13-Write a code to find the minimum number in the tuple (10, 20, 5, 15).\n",
    "\n",
    "tuple_numbers = (10, 20, 5, 15)\n",
    "min_number = min(tuple_numbers)  \n",
    "print(\"Minimum number in the tuple is:\", min_number)"
   ]
  },
  {
   "cell_type": "code",
   "execution_count": 22,
   "id": "b6e8f463-2aed-47b4-aba5-977090027d69",
   "metadata": {},
   "outputs": [
    {
     "name": "stdout",
     "output_type": "stream",
     "text": [
      "Index of cat is: 1\n"
     ]
    }
   ],
   "source": [
    "# 14-Write a code to find the index of the element \"cat\" in the tuple ('dog', 'cat', 'rabbit').\n",
    "\n",
    "tuple_animals = ('dog', 'cat', 'rabbit')\n",
    "index_of_cat = tuple_animals.index('cat')  # Finds the index of \"cat\"\n",
    "print(\"Index of cat is:\", index_of_cat)"
   ]
  },
  {
   "cell_type": "code",
   "execution_count": 25,
   "id": "4e5353a3-9341-4f50-a545-323a2205e014",
   "metadata": {},
   "outputs": [
    {
     "name": "stdout",
     "output_type": "stream",
     "text": [
      "Is 'kiwi' in the tuple?: False\n"
     ]
    }
   ],
   "source": [
    "# 15-Write a code to create a tuple containing three different fruits and check if \"kiwi\" is in it.\n",
    "\n",
    "tuple_fruits = (\"apple\", \"banana\", \"orange\")  \n",
    "is_kiwi_present = \"kiwi\" in tuple_fruits  # Checking if \"kiwi\" is in the tuple\n",
    "print(\"Is 'kiwi' in the tuple?:\",  is_kiwi_present)"
   ]
  },
  {
   "cell_type": "code",
   "execution_count": 26,
   "id": "f19060df-7970-453c-b8ee-a1eeeb3ce66a",
   "metadata": {},
   "outputs": [
    {
     "name": "stdout",
     "output_type": "stream",
     "text": [
      "Set: {'c', 'a', 'b'}\n"
     ]
    }
   ],
   "source": [
    "# 16-Write a code to create a set with the elements 'a', 'b', 'c' and print it.\n",
    "\n",
    "my_set = {'a', 'b', 'c'}  \n",
    "print(\"Set:\", my_set)"
   ]
  },
  {
   "cell_type": "code",
   "execution_count": 27,
   "id": "c8d45bc9-a059-473c-bb31-5928895b61d8",
   "metadata": {},
   "outputs": [
    {
     "name": "stdout",
     "output_type": "stream",
     "text": [
      "Cleared set: set()\n"
     ]
    }
   ],
   "source": [
    "# 17-Write a code to clear all elements from the set {1, 2, 3, 4, 5}.\n",
    "\n",
    "my_set = {1, 2, 3, 4, 5}  \n",
    "my_set.clear()  # Removes all elements from the set\n",
    "print(\"Cleared set:\", my_set)"
   ]
  },
  {
   "cell_type": "code",
   "execution_count": 28,
   "id": "bc7b3be8-8aab-4b65-85a1-9232779c320a",
   "metadata": {},
   "outputs": [
    {
     "name": "stdout",
     "output_type": "stream",
     "text": [
      "Updated set: {1, 2, 3}\n"
     ]
    }
   ],
   "source": [
    "# 18-Write a code to remove the element 4 from the set {1, 2, 3, 4}.\n",
    "\n",
    "my_set = {1, 2, 3, 4}  \n",
    "my_set.remove(4)  # Removes element 4 from the set\n",
    "print(\"Updated set:\", my_set)"
   ]
  },
  {
   "cell_type": "code",
   "execution_count": 29,
   "id": "4a52bccd-1135-4261-90d3-fa24197912d9",
   "metadata": {},
   "outputs": [
    {
     "name": "stdout",
     "output_type": "stream",
     "text": [
      "Union set using union operator : {1, 2, 3, 4, 5}\n",
      "Union set using union method: {1, 2, 3, 4, 5}\n"
     ]
    }
   ],
   "source": [
    "# 19-Write a code to find the union of two sets {1, 2, 3} and {3, 4, 5}.\n",
    "\n",
    "set1 = {1, 2, 3}\n",
    "set2 = {3, 4, 5}\n",
    "\n",
    "# Method 1: Using | (union operator)\n",
    "\n",
    "union_set = set1 | set2\n",
    "print(\"Union set using union operator :\", union_set)\n",
    "\n",
    "# Method 2: Using .union() method\n",
    "\n",
    "union_set_method = set1.union(set2)\n",
    "print(\"Union set using union method:\", union_set_method)"
   ]
  },
  {
   "cell_type": "code",
   "execution_count": 30,
   "id": "6f3726d1-584d-49c6-9854-637b6179a782",
   "metadata": {},
   "outputs": [
    {
     "name": "stdout",
     "output_type": "stream",
     "text": [
      "Intersection set using intersection operator : {2, 3}\n",
      "Intersection set using intersection method: {2, 3}\n"
     ]
    }
   ],
   "source": [
    "# 20-Write a code to find the intersection of two sets {1, 2, 3} and {2, 3, 4}.\n",
    "\n",
    "set1 = {1, 2, 3}\n",
    "set2 = {2, 3, 4}\n",
    "\n",
    "# Method 1: Using intersection operator-&\n",
    "\n",
    "intersection_set = set1 & set2\n",
    "print(\"Intersection set using intersection operator :\", intersection_set)\n",
    "\n",
    "# Method 2: Using .intersection() method\n",
    "\n",
    "intersection_set_method = set1.intersection(set2)\n",
    "print(\"Intersection set using intersection method:\", intersection_set_method)"
   ]
  },
  {
   "cell_type": "code",
   "execution_count": 31,
   "id": "df655ee0-f49c-4e2b-a8a5-56b7824b5bda",
   "metadata": {},
   "outputs": [
    {
     "name": "stdout",
     "output_type": "stream",
     "text": [
      "Dictionary: {'name': 'Rahul', 'age': 25, 'city': 'New Delhi'}\n"
     ]
    }
   ],
   "source": [
    "# 21-Write a code to create a dictionary with the keys \"name\", \"age\", and \"city\", and print it.\n",
    "\n",
    "my_dict = { \"name\": \"Rahul\", \"age\": 25, \"city\": \"New Delhi\"}\n",
    "print(\"Dictionary:\", my_dict)"
   ]
  },
  {
   "cell_type": "code",
   "execution_count": 32,
   "id": "562ba451-0463-460d-8ad1-84e6906e0bb1",
   "metadata": {},
   "outputs": [
    {
     "name": "stdout",
     "output_type": "stream",
     "text": [
      "Updated dictionary: {'name': 'John', 'age': 25, 'country': 'USA'}\n"
     ]
    }
   ],
   "source": [
    "# 22-Write a code to add a new key-value pair \"country\": \"USA\" to the dictionary {'name': 'John', 'age': 25}.\n",
    "\n",
    "my_dict = {'name': 'John', 'age': 25}  # Original dictionary\n",
    "\n",
    "# Adding a new key-value pair\n",
    "\n",
    "my_dict['country'] = 'USA'\n",
    "\n",
    "print(\"Updated dictionary:\", my_dict)"
   ]
  },
  {
   "cell_type": "code",
   "execution_count": 33,
   "id": "162bcfee-b9b9-4e98-97e1-dfe05e3d4cfe",
   "metadata": {},
   "outputs": [
    {
     "name": "stdout",
     "output_type": "stream",
     "text": [
      "Value of Key name: Alice\n",
      "Value of key name: Alice\n"
     ]
    }
   ],
   "source": [
    "# 23-Write a code to access the value associated with the key \"name\" in the dictionary {'name': 'Alice', 'age': 30}.\n",
    "\n",
    "my_dict = {'name': 'Alice', 'age': 30} \n",
    "\n",
    "# Method 1: Using bracket notation\n",
    "\n",
    "key_name_value = my_dict['name']\n",
    "print(\"Value of Key name:\", key_name_value)\n",
    "\n",
    "# Method 2: Using .get() method \n",
    "\n",
    "key_name_value_get = my_dict.get('name')\n",
    "print(\"Value of key name:\", key_name_value_get)"
   ]
  },
  {
   "cell_type": "code",
   "execution_count": 39,
   "id": "03c428c5-922b-45d6-b2be-e4ebdb24c21a",
   "metadata": {},
   "outputs": [
    {
     "name": "stdout",
     "output_type": "stream",
     "text": [
      "Updated dictionary: {'name': 'Bob', 'city': 'New York'}\n"
     ]
    }
   ],
   "source": [
    "# 24-Write a code to remove the key \"age\" from the dictionary {'name': 'Bob', 'age': 22, 'city': 'New York'}.\n",
    "\n",
    "my_dict = {'name': 'Bob', 'age': 22, 'city': 'New York'}\n",
    "del my_dict['age']\n",
    "print(\"Updated dictionary:\", my_dict)"
   ]
  },
  {
   "cell_type": "code",
   "execution_count": 40,
   "id": "e9ae380a-84e2-46a8-9cee-eeddf6fbbfbd",
   "metadata": {},
   "outputs": [
    {
     "name": "stdout",
     "output_type": "stream",
     "text": [
      "Key 'city' exists in the dictionary.\n"
     ]
    }
   ],
   "source": [
    "# 25-Write a code to check if the key \"city\" exists in the dictionary {'name': 'Alice', 'city': 'Paris'}.\n",
    "\n",
    "my_dict = {'name': 'Alice', 'city': 'Paris'} \n",
    "\n",
    "# Checking  if 'city' exists in the dictionary\n",
    "\n",
    "if 'city' in my_dict:\n",
    "    print(\"Key 'city' exists in the dictionary.\")\n",
    "else:\n",
    "    print(\"Key 'city' does not exist in the dictionary.\")"
   ]
  },
  {
   "cell_type": "code",
   "execution_count": 42,
   "id": "1c94a22a-dec4-4380-83a9-65da8710ce09",
   "metadata": {},
   "outputs": [
    {
     "name": "stdout",
     "output_type": "stream",
     "text": [
      "List: [1, 2, 3, 4, 5]\n",
      "Tuple: ('apple', 'banana', 'orange')\n",
      "Dictionary: {'name': 'Rahul', 'age': 25, 'city': 'New Delhi'}\n"
     ]
    }
   ],
   "source": [
    "# 26-Write a code to create a list, a tuple, and a dictionary, and print them all.\n",
    "\n",
    "my_list = [1, 2, 3, 4, 5]\n",
    "\n",
    "my_tuple = ('apple', 'banana', 'orange')\n",
    "\n",
    "my_dict = {'name': 'Rahul', 'age': 25, 'city': 'New Delhi'}\n",
    "\n",
    "print(\"List:\", my_list)\n",
    "print(\"Tuple:\", my_tuple)\n",
    "print(\"Dictionary:\", my_dict)"
   ]
  },
  {
   "cell_type": "code",
   "execution_count": 43,
   "id": "66eb41a6-27dd-4b95-9c54-7b5d3cb9404d",
   "metadata": {},
   "outputs": [
    {
     "name": "stdout",
     "output_type": "stream",
     "text": [
      "Sorted random numbers list: [10, 21, 31, 98, 100]\n"
     ]
    }
   ],
   "source": [
    "# 27-Write a code to create a list of 5 random numbers between 1 and 100, sort it in ascending order, and print the result.\n",
    "\n",
    "import random                                               # Importing the random module\n",
    "random_number_list = random.sample(range(1, 101), 5)        # Generate a list of 5 random numbers between 1 and 100\n",
    "random_number_list.sort()                                    # Sort the list in ascending order\n",
    "print(\"Sorted random numbers list:\", random_number_list)"
   ]
  },
  {
   "cell_type": "code",
   "execution_count": 45,
   "id": "9a9fb795-32a3-472d-9db3-b2ad80927974",
   "metadata": {},
   "outputs": [
    {
     "name": "stdout",
     "output_type": "stream",
     "text": [
      "Element at index 3 is: orange\n"
     ]
    }
   ],
   "source": [
    "# 28-Write a code to create a list with strings and print the element at the third index.\n",
    "\n",
    "my_list = [\"apple\", \"banana\", \"cherry\", \"orange\", \"mango\"]\n",
    "third_index_element = my_list[3]\n",
    "print(\"Element at index 3 is:\", third_index_element)"
   ]
  },
  {
   "cell_type": "code",
   "execution_count": 46,
   "id": "a269c58f-618c-49c0-90d0-65fba404e64e",
   "metadata": {},
   "outputs": [
    {
     "name": "stdout",
     "output_type": "stream",
     "text": [
      "Combined dictionary using update(): {'name': 'Rahul', 'age': 25, 'city': 'New Delhi', 'country': 'India'}\n",
      "Combined dictionary using | operator: {'name': 'Rahul', 'age': 25, 'city': 'New Delhi', 'country': 'India'}\n"
     ]
    }
   ],
   "source": [
    "# 29-Write a code to combine two dictionaries into one and print the result.\n",
    "\n",
    "dict1 = {'name': 'Rahul', 'age': 25}\n",
    "dict2 = {'city': 'New Delhi', 'country': 'India'}\n",
    "\n",
    "# Method 1: Using update() (modifies dict1)\n",
    "\n",
    "combined_dict1 = dict1.copy()            # Copy to avoid modifying original dict1\n",
    "combined_dict1.update(dict2)\n",
    "print(\"Combined dictionary using update():\", combined_dict1)\n",
    "\n",
    "# Method 2: Using | operator (Python 3.9+)\n",
    "\n",
    "combined_dict2 = dict1 | dict2           # Creates a new merged dictionary\n",
    "print(\"Combined dictionary using | operator:\", combined_dict2)"
   ]
  },
  {
   "cell_type": "code",
   "execution_count": 48,
   "id": "31a161fa-3eb7-42ec-9b95-a1dea8f8a40a",
   "metadata": {},
   "outputs": [
    {
     "name": "stdout",
     "output_type": "stream",
     "text": [
      "List converted to Set: {'banana', 'orange', 'apple'}\n"
     ]
    }
   ],
   "source": [
    "# 30-Write a code to convert a list of strings into a set.\n",
    "\n",
    "my_list = [\"apple\", \"banana\", \"orange\", \"apple\", \"banana\"]\n",
    "list_to_set = set(my_list)      # Converting the list to a set\n",
    "print(\"List converted to Set:\", list_to_set)"
   ]
  },
  {
   "cell_type": "code",
   "execution_count": null,
   "id": "2d1d02e9-f8eb-4a6a-9cf7-2d1d43be8e39",
   "metadata": {},
   "outputs": [],
   "source": []
  }
 ],
 "metadata": {
  "kernelspec": {
   "display_name": "Python 3 (ipykernel)",
   "language": "python",
   "name": "python3"
  },
  "language_info": {
   "codemirror_mode": {
    "name": "ipython",
    "version": 3
   },
   "file_extension": ".py",
   "mimetype": "text/x-python",
   "name": "python",
   "nbconvert_exporter": "python",
   "pygments_lexer": "ipython3",
   "version": "3.13.1"
  }
 },
 "nbformat": 4,
 "nbformat_minor": 5
}
